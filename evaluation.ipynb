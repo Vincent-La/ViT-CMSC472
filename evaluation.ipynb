{
 "cells": [
  {
   "cell_type": "code",
   "execution_count": 1,
   "id": "4024a41c-f2ce-4321-a70a-03a38c237c07",
   "metadata": {},
   "outputs": [
    {
     "name": "stderr",
     "output_type": "stream",
     "text": [
      "/home/lavs/micromamba/envs/VIT/lib/python3.10/site-packages/tqdm/auto.py:21: TqdmWarning: IProgress not found. Please update jupyter and ipywidgets. See https://ipywidgets.readthedocs.io/en/stable/user_install.html\n",
      "  from .autonotebook import tqdm as notebook_tqdm\n"
     ]
    }
   ],
   "source": [
    "import os\n",
    "\n",
    "import torch\n",
    "import numpy as np\n",
    "\n",
    "from urllib.request import urlretrieve\n",
    "\n",
    "from PIL import Image\n",
    "from torchvision import transforms, datasets\n",
    "from torch.utils.data import DataLoader, SequentialSampler\n",
    "import pickle\n",
    "\n",
    "import models.modeling as original\n",
    "import models.modeling_bitlinear as binary\n"
   ]
  },
  {
   "cell_type": "code",
   "execution_count": 2,
   "id": "2bc0adfd-4198-48c2-a596-c9cb91f9fd08",
   "metadata": {},
   "outputs": [],
   "source": [
    "os.makedirs(\"attention_data\", exist_ok=True)\n",
    "#if not os.path.isfile(\"attention_data/ilsvrc2012_wordnet_lemmas.txt\"):\n",
    "#    urlretrieve(\"https://storage.googleapis.com/bit_models/ilsvrc2012_wordnet_lemmas.txt\", \"attention_data/ilsvrc2012_wordnet_lemmas.txt\")\n",
    "#if not os.path.isfile(\"attention_data/ViT-B_16-224.npz\"):\n",
    "#    urlretrieve(\"https://storage.googleapis.com/vit_models/imagenet21k+imagenet2012/ViT-B_16-224.npz\", \"attention_data/ViT-B_16-224.npz\")\n",
    "\n",
    "#imagenet_labels = dict(enumerate(open('attention_data/ilsvrc2012_wordnet_lemmas.txt')))"
   ]
  },
  {
   "cell_type": "code",
   "execution_count": 8,
   "id": "5936acb0-a1c3-4916-aa43-ba15699e6d62",
   "metadata": {},
   "outputs": [
    {
     "name": "stdout",
     "output_type": "stream",
     "text": [
      "Files already downloaded and verified\n"
     ]
    }
   ],
   "source": [
    "# Download CIFAR-10 (if it doesn't exist) and create the test loader\n",
    "batch_size = 4\n",
    "\n",
    "transform_test = transforms.Compose([\n",
    "    transforms.Resize((224, 224)),\n",
    "    transforms.ToTensor(),\n",
    "    transforms.Normalize(mean=[0.5, 0.5, 0.5], std=[0.5, 0.5, 0.5]),\n",
    "])\n",
    "\n",
    "testset = datasets.CIFAR10(root=\"attention_data\", train=False, download=True, transform=transform_test)\n",
    "test_dataloader = DataLoader(testset, batch_size=batch_size, shuffle=False)"
   ]
  },
  {
   "cell_type": "code",
   "execution_count": 7,
   "id": "1f97f427-3d3f-402c-8db1-d5c1ba2acbd4",
   "metadata": {},
   "outputs": [
    {
     "name": "stdout",
     "output_type": "stream",
     "text": [
      "{b'num_cases_per_batch': 10000, b'label_names': [b'airplane', b'automobile', b'bird', b'cat', b'deer', b'dog', b'frog', b'horse', b'ship', b'truck'], b'num_vis': 3072}\n"
     ]
    }
   ],
   "source": [
    "# Get labels\n",
    "with open(\"attention_data/cifar-10-batches-py/batches.meta\", 'rb') as labels_names:\n",
    "    cifar10_labels = pickle.load(labels_names, encoding='bytes')\n",
    "\n",
    "print(cifar10_labels)"
   ]
  },
  {
   "cell_type": "code",
   "execution_count": 5,
   "id": "25fda1e4-eece-409b-8574-b1ba230053bd",
   "metadata": {},
   "outputs": [],
   "source": [
    "# Base model used as starting point\n",
    "#urlretrieve(\"https://storage.googleapis.com/vit_models/imagenet21k%2Bimagenet2012/ViT-B_16-224.npz\", \"attention_data/ViT-B_16.npz\")"
   ]
  },
  {
   "cell_type": "markdown",
   "id": "57d1b07c",
   "metadata": {},
   "source": [
    "## Evluating Test Accuracy of Trained Models\n",
    "\n",
    "+ Model weights and training logs can be found [here](https://drive.google.com/drive/u/2/folders/1o6YwUx-lfn0kfxaYC3NJm3I4hEBYuy2n)"
   ]
  },
  {
   "cell_type": "code",
   "execution_count": 9,
   "id": "1551f88e-ed1f-4b92-9b6f-8fecd5c3c306",
   "metadata": {},
   "outputs": [
    {
     "data": {
      "text/plain": [
       "'cuda'"
      ]
     },
     "execution_count": 9,
     "metadata": {},
     "output_type": "execute_result"
    }
   ],
   "source": [
    "# select device\n",
    "device = \"cuda\" if torch.cuda.is_available() else \"cpu\"\n",
    "device"
   ]
  },
  {
   "cell_type": "code",
   "execution_count": 10,
   "id": "fcc1ec57",
   "metadata": {},
   "outputs": [],
   "source": [
    "def eval_model(model):\n",
    "    model.eval()\n",
    "    global_acc = 0\n",
    "    for idx, batch in enumerate(test_dataloader):\n",
    "        with torch.no_grad():\n",
    "            images, labels = batch\n",
    "            images = images.to(device)\n",
    "            \n",
    "            logits, _ = model(images)\n",
    "\n",
    "            for idx, image_logits in enumerate(logits):\n",
    "                probs = torch.nn.Softmax(dim=-1)(image_logits)\n",
    "                sorted_probs = torch.argsort(probs, dim=-1, descending=True)\n",
    "                if cifar10_labels[b'label_names'][sorted_probs[0].item()] == cifar10_labels[b'label_names'][labels[idx].item()]:\n",
    "                    global_acc += 1\n",
    "                    \n",
    "\n",
    "    global_acc /= len(testset)\n",
    "    print(global_acc)"
   ]
  },
  {
   "cell_type": "code",
   "execution_count": 8,
   "id": "f0ae11ac",
   "metadata": {},
   "outputs": [
    {
     "data": {
      "text/plain": [
       "VisionTransformer(\n",
       "  (transformer): Transformer(\n",
       "    (embeddings): Embeddings(\n",
       "      (patch_embeddings): Conv2d(3, 768, kernel_size=(16, 16), stride=(16, 16))\n",
       "      (dropout): Dropout(p=0.1, inplace=False)\n",
       "    )\n",
       "    (encoder): Encoder(\n",
       "      (layer): ModuleList(\n",
       "        (0-11): 12 x Block(\n",
       "          (attention_norm): LayerNorm((768,), eps=1e-06, elementwise_affine=True)\n",
       "          (ffn_norm): LayerNorm((768,), eps=1e-06, elementwise_affine=True)\n",
       "          (ffn): Mlp(\n",
       "            (fc1): Linear(in_features=768, out_features=3072, bias=True)\n",
       "            (fc2): Linear(in_features=3072, out_features=768, bias=True)\n",
       "            (dropout): Dropout(p=0.1, inplace=False)\n",
       "          )\n",
       "          (attn): Attention(\n",
       "            (query): Linear(in_features=768, out_features=768, bias=True)\n",
       "            (key): Linear(in_features=768, out_features=768, bias=True)\n",
       "            (value): Linear(in_features=768, out_features=768, bias=True)\n",
       "            (out): Linear(in_features=768, out_features=768, bias=True)\n",
       "            (attn_dropout): Dropout(p=0.0, inplace=False)\n",
       "            (proj_dropout): Dropout(p=0.0, inplace=False)\n",
       "            (softmax): Softmax(dim=-1)\n",
       "          )\n",
       "        )\n",
       "      )\n",
       "      (encoder_norm): LayerNorm((768,), eps=1e-06, elementwise_affine=True)\n",
       "    )\n",
       "  )\n",
       "  (head): Linear(in_features=768, out_features=10, bias=True)\n",
       ")"
      ]
     },
     "execution_count": 8,
     "metadata": {},
     "output_type": "execute_result"
    }
   ],
   "source": [
    "# Baseline finetune run\n",
    "checkpoint_path = \"output/baseline_checkpoint.bin\"\n",
    "config = original.CONFIGS[\"ViT-B_16\"]\n",
    "baseline_model = original.VisionTransformer(config, num_classes=10, zero_head=False, img_size=224, vis=False).to(device)\n",
    "checkpoint = torch.load(checkpoint_path)\n",
    "baseline_model.load_state_dict(checkpoint)\n",
    "\n",
    "baseline_model"
   ]
  },
  {
   "cell_type": "code",
   "execution_count": 9,
   "id": "6ae1308a",
   "metadata": {},
   "outputs": [
    {
     "name": "stdout",
     "output_type": "stream",
     "text": [
      "0.9904\n"
     ]
    }
   ],
   "source": [
    "# CIFAR-10 Accuracy for baseline model\n",
    "eval_model(baseline_model)"
   ]
  },
  {
   "cell_type": "code",
   "execution_count": 11,
   "id": "cf8ddc6e",
   "metadata": {},
   "outputs": [
    {
     "name": "stdout",
     "output_type": "stream",
     "text": [
      "VisionTransformer(\n",
      "  (transformer): Transformer(\n",
      "    (embeddings): Embeddings(\n",
      "      (patch_embeddings): Conv2d(3, 768, kernel_size=(16, 16), stride=(16, 16))\n",
      "      (dropout): Dropout(p=0.1, inplace=False)\n",
      "    )\n",
      "    (encoder): Encoder(\n",
      "      (layer): ModuleList(\n",
      "        (0-11): 12 x Block(\n",
      "          (attention_norm): LayerNorm((768,), eps=1e-06, elementwise_affine=True)\n",
      "          (ffn_norm): LayerNorm((768,), eps=1e-06, elementwise_affine=True)\n",
      "          (ffn): Mlp(\n",
      "            (fc1): BitLinear(in_features=768, out_features=3072, bias=True)\n",
      "            (fc2): BitLinear(in_features=3072, out_features=768, bias=True)\n",
      "            (dropout): Dropout(p=0.1, inplace=False)\n",
      "          )\n",
      "          (attn): Attention(\n",
      "            (query): BitLinear(in_features=768, out_features=768, bias=True)\n",
      "            (key): BitLinear(in_features=768, out_features=768, bias=True)\n",
      "            (value): BitLinear(in_features=768, out_features=768, bias=True)\n",
      "            (out): BitLinear(in_features=768, out_features=768, bias=True)\n",
      "            (attn_dropout): Dropout(p=0.0, inplace=False)\n",
      "            (proj_dropout): Dropout(p=0.0, inplace=False)\n",
      "            (softmax): Softmax(dim=-1)\n",
      "          )\n",
      "        )\n",
      "      )\n",
      "      (encoder_norm): LayerNorm((768,), eps=1e-06, elementwise_affine=True)\n",
      "    )\n",
      "  )\n",
      "  (head): Linear(in_features=768, out_features=10, bias=True)\n",
      ")\n"
     ]
    }
   ],
   "source": [
    "# Binarized Run 10,000 iterations\n",
    "checkpoint_path = \"output/config1_checkpoint.bin\"\n",
    "config = binary.CONFIGS[\"ViT-B_16\"]\n",
    "bit_model1 = binary.VisionTransformer(config, num_classes=10, zero_head=False, img_size=224, vis=False).to(device)\n",
    "checkpoint = torch.load(checkpoint_path)\n",
    "bit_model1.load_state_dict(checkpoint)\n",
    "\n",
    "print(bit_model1)"
   ]
  },
  {
   "cell_type": "code",
   "execution_count": 12,
   "id": "cbb2074f",
   "metadata": {},
   "outputs": [
    {
     "name": "stdout",
     "output_type": "stream",
     "text": [
      "0.3636\n"
     ]
    }
   ],
   "source": [
    "# CIFAR-10 Accuracy for Binarized Run 10,000 iterations\n",
    "eval_model(bit_model1)"
   ]
  },
  {
   "cell_type": "code",
   "execution_count": 11,
   "id": "d7b4216d",
   "metadata": {},
   "outputs": [
    {
     "name": "stdout",
     "output_type": "stream",
     "text": [
      "0.4362\n"
     ]
    }
   ],
   "source": [
    "# Binarized Run 50,000 iterations\n",
    "checkpoint_path = \"output/config2_checkpoint.bin\"\n",
    "config = binary.CONFIGS[\"ViT-B_16\"]\n",
    "bit_model2 = binary.VisionTransformer(config, num_classes=10, zero_head=False, img_size=224, vis=False).to(device)\n",
    "checkpoint = torch.load(checkpoint_path)\n",
    "bit_model2.load_state_dict(checkpoint)\n",
    "\n",
    "# CIFAR-10 Accuracy for Binarized Run 50,000 iterations\n",
    "eval_model(bit_model2)"
   ]
  }
 ],
 "metadata": {
  "kernelspec": {
   "display_name": "Python 3 (ipykernel)",
   "language": "python",
   "name": "python3"
  },
  "language_info": {
   "codemirror_mode": {
    "name": "ipython",
    "version": 3
   },
   "file_extension": ".py",
   "mimetype": "text/x-python",
   "name": "python",
   "nbconvert_exporter": "python",
   "pygments_lexer": "ipython3",
   "version": "3.10.14"
  }
 },
 "nbformat": 4,
 "nbformat_minor": 5
}
